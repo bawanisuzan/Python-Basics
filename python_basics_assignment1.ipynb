{
  "nbformat": 4,
  "nbformat_minor": 0,
  "metadata": {
    "colab": {
      "provenance": []
    },
    "kernelspec": {
      "name": "python3",
      "display_name": "Python 3"
    },
    "language_info": {
      "name": "python"
    }
  },
  "cells": [
    {
      "cell_type": "markdown",
      "source": [
        "# **Theory Questions**"
      ],
      "metadata": {
        "id": "wuGOLlv2ASV1"
      }
    },
    {
      "cell_type": "markdown",
      "source": [
        "\n",
        "\n",
        "1.   What is Python, and why is it popular?\n",
        "  * Python is a high-level, interpreted programming language known for its simplicity, readability, and versatility.\n",
        "  * It is popular because:\n",
        "      - Easy to Learn & Use.\n",
        "      - Versatile use cases like web scraping, automation, web development, data science and AI, cyber security, finance/trading etc.\n",
        "      - Massive eco-system and extensive libraries and frameworks like scikit-learn, numpy, tensorflow, flask, fastapi, django etc.\n",
        "      - Used by tech giants like Google, Meta, Netflix, NASA, etc.\n",
        "      - Cross-Platform & Open Source.\n",
        "      - Great Community & Support\n",
        "\n",
        "2. What is an interpreter in Python?\n",
        "  * A Python interpreter is the program that parses the .py file (Python source code), converts it into an intermediate form (bytecode), and executes that bytecode on the Python Virtual Machine (PVM).\n",
        "  * An interpreter in Python is the translator that reads the Python code line by line and executes it immediately.\n",
        "\n",
        "3. What are pre-defined keywords in Python?\n",
        "  * Keywords are reserved words in Python which are built into the language and cannot be used as variable names, function names, or identifiers.\n",
        "  * They are important because they define the structure, control flow, and behavior of your code.\n",
        "\n",
        "4. Can keywords be used as variable names?\n",
        "  * No, keywords cannot be used as variable names in Python. Using a Python keyword as a variable name will raise a SyntaxError, and the program won't even compile.\n",
        "\n",
        "5. What is mutability in Python?\n",
        "  * Mutability in Python refers to whether an object can be changed after it's created.\n",
        "  * list, set, dict, bytearray are examples of mutable datatypes.\n",
        "\n",
        "6. Why are lists mutable, but tuples are immutable?\n",
        "  * Lists are mutable because they're designed for dynamic, changeable and flexible data where one can add, delete and modify elements whereas Tuples are immutable because they're optimized for fixed, reliable data where changing the data isn't required.\n",
        "  * Ideal for stacks, queues, result sets, and more whereas tuples are often used to represent a record, like a database row or coordinates, or dictionary keys and set elements because they're hashable (immutable).\n",
        "  * Tuples are faster than lists for fixed-size data. Python can optimize memory and execution when it knows an object won't change.\n",
        "\n",
        "7. What is the difference between “==” and “is” operators in Python?\n",
        "  * \"==\" operator refers to the value equality. It checks whether two variables have the same value, regardless of where or how they are stored in memory. It is used when comparing any two values.\n",
        "  * \"is\" operator refers to the object identity. It checks whether two variables point to the exact same object in memory which means they should point to the same memory address. It is used when when checking identity, especially for None, singletons, or when managing references.\n",
        "\n",
        "8. What are logical operators in Python?\n",
        "  * Logical operators in python are the boolean decision making tools. They determine how multiple conditions are evaluated together.\n",
        "  * They're used in decision-making, control flow, and filtering logic.\n",
        "  * There are 3 logical operators in python:\n",
        "    - and\n",
        "    - or\n",
        "    - not\n",
        "\n",
        "9. What is type casting in Python?\n",
        "  * Type casting is the process of converting the value of one data type to another.\n",
        "  * There are two types of type-casting:\n",
        "    - Implicit typecasting\n",
        "    - Explicit typecasting\n",
        "  * Implicit type casting is done automatically by python whereas Explicit typecasting is done manually by the programmer when it is required.\n",
        "\n",
        "10. What is the difference between implicit and explicit type casting?\n",
        "  * Implicit type casting:\n",
        "      - Python automatically converts one data type to another, to avoid data loss in mixed-type operations.\n",
        "  * Explicit type casting:\n",
        "      - When the developer intentionally convert a data type using built-in functions like int(), float(), str(), etc., it is called expicit type casting.\n",
        "  \n",
        "11. What is the purpose of conditional statements in Python?\n",
        "  * Conditional statements in Python allow you to control the flow of your program based on conditions which lets your program make decisions.\n",
        "  * Its main purpose is to execute specific code blocks only when certain conditions are True.\n",
        "  * There are four kinds of conditional statements:\n",
        "      - if\n",
        "      - if-elif-else\n",
        "      - if-else\n",
        "      - nested if-else\n",
        "\n",
        "12. How does the elif statement work?\n",
        "  * The elif statement allows your program to test several different expressions and execute different blocks of code depending on which condition is true.\n",
        "  * It's used when you have multiple possible scenarios and need to act differently based on which one matches.\n",
        "  * Working of elif statement:\n",
        "      1. Python checks the if condition.\n",
        "      2. If it's True, it runs that block and skips everything else.\n",
        "      3. If if is False, it checks each elif condition in order.\n",
        "      4. The first elif that is True gets executed.\n",
        "      5. If none of the if/elif conditions are true, and there's an else block, that one is executed.\n",
        "\n",
        "13. What is the difference between for and while loops?\n",
        "  * Both while and for loops allow the repeated execution of the code block until certain condition is met but there serve different puposes and where they should be used based on different use cases.\n",
        "  * For loop is used when the number of iterations are already known making them ideal for iterating over sequences (like lists, strings, ranges, etc.)\n",
        "  * While loop is used when the number of iterations are not known in advance and run until the certain condition is True making them ideal for infinite loops, waiting for events, or looping until something happens (e.g., user input, sensor value, server status, page loading etc)\n",
        "\n",
        "14. Describe a scenario where a while loop is more suitable than a for loop.\n",
        "  * ATM PIN Entry System — Perfect Use Case for a while Loop\n",
        "      - When designing an ATM interface where the user must enter their PIN code correctly to proceed. The system allows a maximum of 3 attempts before it locks the account.\n",
        "      - This is not about iterating over a list — it's about repeating an action until the correct PIN is entered or the number of attempts runs out.\n",
        "\n",
        "\n",
        "\n"
      ],
      "metadata": {
        "id": "RRRBvXo30Dx4"
      }
    },
    {
      "cell_type": "markdown",
      "source": [
        "# **Practical Questions**"
      ],
      "metadata": {
        "id": "5xTp8YJmpzPZ"
      }
    },
    {
      "cell_type": "code",
      "execution_count": null,
      "metadata": {
        "colab": {
          "base_uri": "https://localhost:8080/"
        },
        "id": "G6JZhq_no0B_",
        "outputId": "f94ad229-00b2-493c-e5a6-00bcb490303a"
      },
      "outputs": [
        {
          "output_type": "stream",
          "name": "stdout",
          "text": [
            "Hello, World\n"
          ]
        }
      ],
      "source": [
        "# Question 1: Write a Python program to print \"Hello, World\"\n",
        "\n",
        "print(\"Hello, World\")"
      ]
    },
    {
      "cell_type": "code",
      "source": [
        "# Question 2: Write a Python program that display your name and age\n",
        "\n",
        "name = \"Suzan\"\n",
        "age = 22\n",
        "\n",
        "print(f\"Name: {name}\\nAge: {age}\")"
      ],
      "metadata": {
        "colab": {
          "base_uri": "https://localhost:8080/"
        },
        "id": "Eip5eZViqObA",
        "outputId": "681ecdda-4c6b-4202-ccd1-7170216cc8d2"
      },
      "execution_count": null,
      "outputs": [
        {
          "output_type": "stream",
          "name": "stdout",
          "text": [
            "Name: Suzan\n",
            "Age: 22\n"
          ]
        }
      ]
    },
    {
      "cell_type": "code",
      "source": [
        "# Question 3: Write code to print all the pre-defined keywords in Python using the keyword library.\n",
        "\n",
        "import keyword\n",
        "\n",
        "print(\"Pre-defined keywords in Python:\")\n",
        "print(keyword.kwlist)"
      ],
      "metadata": {
        "colab": {
          "base_uri": "https://localhost:8080/"
        },
        "id": "fIaIZQYArFZM",
        "outputId": "d24b3f72-97b2-4b20-d650-57e2cea3855c"
      },
      "execution_count": null,
      "outputs": [
        {
          "output_type": "stream",
          "name": "stdout",
          "text": [
            "Pre-defined keywords in Python:\n",
            "['False', 'None', 'True', 'and', 'as', 'assert', 'async', 'await', 'break', 'class', 'continue', 'def', 'del', 'elif', 'else', 'except', 'finally', 'for', 'from', 'global', 'if', 'import', 'in', 'is', 'lambda', 'nonlocal', 'not', 'or', 'pass', 'raise', 'return', 'try', 'while', 'with', 'yield']\n"
          ]
        }
      ]
    },
    {
      "cell_type": "code",
      "source": [
        "# Question 4: Write a program that checks if a given word is a Python keyword.\n",
        "\n",
        "import keyword\n",
        "\n",
        "word1 = \"for\"\n",
        "word2 = \"define\"\n",
        "\n",
        "print(f\"Is {word1} a keyword in python? {keyword.iskeyword(word1)}\")\n",
        "print(f\"Is {word2} a keyword in python? {keyword.iskeyword(word2)}\")"
      ],
      "metadata": {
        "colab": {
          "base_uri": "https://localhost:8080/"
        },
        "id": "0J-u4SFUrOyP",
        "outputId": "ce6cc9e9-7b5f-4621-e6ce-52e538448a81"
      },
      "execution_count": null,
      "outputs": [
        {
          "output_type": "stream",
          "name": "stdout",
          "text": [
            "Is for a keyword in python? True\n",
            "Is define a keyword in python? False\n"
          ]
        }
      ]
    },
    {
      "cell_type": "code",
      "source": [
        "# Question 5: Create a list and tuple in Python, and demonstrate how attempting to change an element works differently for each.\n",
        "\n",
        "list1 = ['apple', 'banana', 'mango']\n",
        "tuple1 = ('apple', 'banana', 'mango')\n",
        "\n",
        "list1[1] = 'watermelon'\n",
        "print(f\"List: {list1}\")\n",
        "\n",
        "tuple1[1] = 'watermelon'\n",
        "print(f\"Tuple: {tuple1}\")   # This throws TypeError as tuples are immutable so we cannot modify the values of tuple, and thus it does not support item assignment."
      ],
      "metadata": {
        "colab": {
          "base_uri": "https://localhost:8080/",
          "height": 211
        },
        "id": "-W33z5_nr5v0",
        "outputId": "6ece444e-0322-4893-a734-cbb990c311fa"
      },
      "execution_count": null,
      "outputs": [
        {
          "output_type": "stream",
          "name": "stdout",
          "text": [
            "List: ['apple', 'watermelon', 'mango']\n"
          ]
        },
        {
          "output_type": "error",
          "ename": "TypeError",
          "evalue": "'tuple' object does not support item assignment",
          "traceback": [
            "\u001b[0;31m---------------------------------------------------------------------------\u001b[0m",
            "\u001b[0;31mTypeError\u001b[0m                                 Traceback (most recent call last)",
            "\u001b[0;32m<ipython-input-6-3146048029d7>\u001b[0m in \u001b[0;36m<cell line: 0>\u001b[0;34m()\u001b[0m\n\u001b[1;32m      7\u001b[0m \u001b[0mprint\u001b[0m\u001b[0;34m(\u001b[0m\u001b[0;34mf\"List: {list1}\"\u001b[0m\u001b[0;34m)\u001b[0m\u001b[0;34m\u001b[0m\u001b[0;34m\u001b[0m\u001b[0m\n\u001b[1;32m      8\u001b[0m \u001b[0;34m\u001b[0m\u001b[0m\n\u001b[0;32m----> 9\u001b[0;31m \u001b[0mtuple1\u001b[0m\u001b[0;34m[\u001b[0m\u001b[0;36m1\u001b[0m\u001b[0;34m]\u001b[0m \u001b[0;34m=\u001b[0m \u001b[0;34m'watermelon'\u001b[0m\u001b[0;34m\u001b[0m\u001b[0;34m\u001b[0m\u001b[0m\n\u001b[0m\u001b[1;32m     10\u001b[0m \u001b[0mprint\u001b[0m\u001b[0;34m(\u001b[0m\u001b[0;34mf\"Tuple: {tuple1}\"\u001b[0m\u001b[0;34m)\u001b[0m\u001b[0;34m\u001b[0m\u001b[0;34m\u001b[0m\u001b[0m\n",
            "\u001b[0;31mTypeError\u001b[0m: 'tuple' object does not support item assignment"
          ]
        }
      ]
    },
    {
      "cell_type": "code",
      "source": [
        "# Question 6: Write a function to demonstrate the behavior of mutable and immutable arguments.\n",
        "my_list = ['dog', 'cat', 'lion']\n",
        "num1 = 10\n",
        "my_dict = {\n",
        "    'name': 'Suzan',\n",
        "    'age': 22,\n",
        "}\n",
        "str1 = \"Hello\"\n",
        "\n",
        "def mutable_immutable_behavior(int1, str1, list1, dict1):\n",
        "  int1 += 10\n",
        "  list1.append(\"tiger\")\n",
        "  str1 += \" world\"\n",
        "  dict1[\"gender\"] = \"female\"\n",
        "\n",
        "print(\"\\nBefore function call:\")\n",
        "print(f\"num: {num1}\")\n",
        "print(f\"my_list: {my_list}\")\n",
        "print(f\"greeting: {str1}\")\n",
        "print(f\"my_dict: {my_dict}\\n\")\n",
        "\n",
        "mutable_immutable_behavior(num1, str1, my_list, my_dict)\n",
        "# Integer and string wont modify their values as they are immutable and list, dictionaries are mutable so they can change their values.\n",
        "\n",
        "print(\"\\nAfter function call:\")\n",
        "print(f\"num: {num1}\")\n",
        "print(f\"my_list: {my_list}\")\n",
        "print(f\"greeting: {str1}\")\n",
        "print(f\"my_dict: {my_dict}\\n\")"
      ],
      "metadata": {
        "id": "TTfy6amgtR72",
        "colab": {
          "base_uri": "https://localhost:8080/"
        },
        "outputId": "0b9a3f95-c676-4808-abe7-1c9c52d22320"
      },
      "execution_count": null,
      "outputs": [
        {
          "output_type": "stream",
          "name": "stdout",
          "text": [
            "\n",
            "Before function call:\n",
            "num: 10\n",
            "my_list: ['dog', 'cat', 'lion']\n",
            "greeting: Hello\n",
            "my_dict: {'name': 'Suzan', 'age': 22}\n",
            "\n",
            "\n",
            "After function call:\n",
            "num: 10\n",
            "my_list: ['dog', 'cat', 'lion', 'tiger']\n",
            "greeting: Hello\n",
            "my_dict: {'name': 'Suzan', 'age': 22, 'gender': 'female'}\n",
            "\n"
          ]
        }
      ]
    },
    {
      "cell_type": "code",
      "source": [
        "#  Question 7: Write a program that performs basic arithmetic operations on two user-input numbers.\n",
        "\n",
        "num1 = int(input(\"Enter first number: \"))\n",
        "num2 = int(input(\"Enter second number: \"))\n",
        "\n",
        "print(f\"Addition: {num1 + num2}\")\n",
        "print(f\"Subtraction: {num1 - num2}\")\n",
        "print(f\"Multiplication: {num1 * num2}\")\n",
        "print(f\"Division: {num1 / num2}\")\n",
        "print(f\"Floor Division: {num1 // num2}\")\n",
        "print(f\"Modulus: {num1 % num2}\")\n",
        "print(f\"Exponent: {num1 ** num2}\")"
      ],
      "metadata": {
        "colab": {
          "base_uri": "https://localhost:8080/"
        },
        "id": "VZ09p5UEy4Rd",
        "outputId": "3b8eccfd-70fc-4ae1-8fea-6d72e0ae44a7"
      },
      "execution_count": null,
      "outputs": [
        {
          "output_type": "stream",
          "name": "stdout",
          "text": [
            "Enter first number: 10\n",
            "Enter second number: 2\n",
            "Addition: 12\n",
            "Subtraction: 8\n",
            "Multiplication: 20\n",
            "Division: 5.0\n",
            "Floor Division: 5\n",
            "Modulus: 0\n",
            "Exponent: 100\n"
          ]
        }
      ]
    },
    {
      "cell_type": "code",
      "source": [
        "# Question 8: Write a program to demonstrate the use of logical operators.\n",
        "\n",
        "num1 = 10\n",
        "num2 = 20\n",
        "\n",
        "print(f\"Is {num1} greater than {num2}? {num1 > num2}\")\n",
        "print(f\"Is {num1} less than {num2}? {num1 < num2}\")\n",
        "print(f\"Is {num1} equal to {num2}? {num1 == num2}\")\n",
        "print(f\"Is {num1} not equal to {num2}? {num1 != num2}\")\n",
        "print(f\"Is {num1} greater than or equal to {num2}? {num1 >= num2}\")\n",
        "print(f\"Is {num1} less than or equal to {num2}? {num1 <= num2}\")"
      ],
      "metadata": {
        "colab": {
          "base_uri": "https://localhost:8080/"
        },
        "id": "duHHTbYvzrlD",
        "outputId": "a1768bca-31b2-4031-e958-294fac765c79"
      },
      "execution_count": null,
      "outputs": [
        {
          "output_type": "stream",
          "name": "stdout",
          "text": [
            "Is 10 greater than 20? False\n",
            "Is 10 less than 20? True\n",
            "Is 10 equal to 20? False\n",
            "Is 10 not equal to 20? True\n",
            "Is 10 greater than or equal to 20? False\n",
            "Is 10 less than or equal to 20? True\n"
          ]
        }
      ]
    },
    {
      "cell_type": "code",
      "source": [
        "# Question 9: Write a Python program to convert user input from string to integer, float, and boolean types.\n",
        "\n",
        "user_input = input(\"Enter a number: \")\n",
        "\n",
        "print(f\"String: {user_input}\")\n",
        "print(f\"Integer: {int(user_input)}\")\n",
        "print(f\"Float: {float(user_input)}\")\n",
        "print(f\"Boolean: {bool(user_input)}\")"
      ],
      "metadata": {
        "colab": {
          "base_uri": "https://localhost:8080/"
        },
        "id": "85479hNGzuka",
        "outputId": "3b2c864e-3c38-4201-b1c9-1070c8560d34"
      },
      "execution_count": null,
      "outputs": [
        {
          "output_type": "stream",
          "name": "stdout",
          "text": [
            "Enter a number: 25\n",
            "String: 25\n",
            "Integer: 25\n",
            "Float: 25.0\n",
            "Boolean: True\n"
          ]
        }
      ]
    },
    {
      "cell_type": "code",
      "source": [
        "# Question 10: Write code to demonstrate type casting with list elements.\n",
        "\n",
        "list1 = ['apple', 24, 'watermelon', 36]\n",
        "\n",
        "print(list1)\n",
        "\n",
        "list1[1] = str(list1[1])\n",
        "list1[3] = float(list1[3])\n",
        "\n",
        "print(list1)"
      ],
      "metadata": {
        "colab": {
          "base_uri": "https://localhost:8080/"
        },
        "id": "WZEaA_Qc0zbd",
        "outputId": "d1210ece-6674-440f-abd2-b8914d5f6e48"
      },
      "execution_count": null,
      "outputs": [
        {
          "output_type": "stream",
          "name": "stdout",
          "text": [
            "['apple', 24, 'watermelon', 36]\n",
            "['apple', '24', 'watermelon', 36.0]\n"
          ]
        }
      ]
    },
    {
      "cell_type": "code",
      "source": [
        "# Question 11: Write a program that checks if a number is positive, negative, or zero.\n",
        "\n",
        "num = int(input(\"Enter a number:\"))\n",
        "\n",
        "if num > 0:\n",
        "  print(f\"Number: {num} is positive\")\n",
        "elif num < 0:\n",
        "  print(f\"Number: {num} is negative\")\n",
        "else:\n",
        "  print(f\"Number: {num} is neither positive nor negative\")"
      ],
      "metadata": {
        "colab": {
          "base_uri": "https://localhost:8080/"
        },
        "id": "3SZPaT6Z1VHF",
        "outputId": "3ca1e1fe-490e-4049-8897-78e87ad89bba"
      },
      "execution_count": null,
      "outputs": [
        {
          "output_type": "stream",
          "name": "stdout",
          "text": [
            "Enter a number:89\n",
            "Number: 89 is positive\n"
          ]
        }
      ]
    },
    {
      "cell_type": "code",
      "source": [
        "# Question 12: Write a for loop to print numbers from 1 to 10.\n",
        "\n",
        "for num in range(1,11):\n",
        "  print(num)"
      ],
      "metadata": {
        "colab": {
          "base_uri": "https://localhost:8080/"
        },
        "id": "9a4Vzs462Ng1",
        "outputId": "4962b82f-c1a1-42f6-b1c9-f2bd451dfc64"
      },
      "execution_count": null,
      "outputs": [
        {
          "output_type": "stream",
          "name": "stdout",
          "text": [
            "1\n",
            "2\n",
            "3\n",
            "4\n",
            "5\n",
            "6\n",
            "7\n",
            "8\n",
            "9\n",
            "10\n"
          ]
        }
      ]
    },
    {
      "cell_type": "code",
      "source": [
        "# Question 13: Write a Python program to find the sum of all even numbers between 1 and 50.\n",
        "\n",
        "sum = 0\n",
        "\n",
        "for num in range(1,51):\n",
        "  if num % 2 == 0:    # Logic for checking whether a number is odd or even (i.e. if division by 2 leaves a remainder as 0,then the number is even, otherwise odd)\n",
        "    sum += num\n",
        "\n",
        "print(f\"The sum of all even numbers between 1 and 50 is: {sum}\")"
      ],
      "metadata": {
        "colab": {
          "base_uri": "https://localhost:8080/"
        },
        "id": "yJWqh8g12clx",
        "outputId": "44810cfb-3976-4ee7-fe4e-405e6b31a30c"
      },
      "execution_count": null,
      "outputs": [
        {
          "output_type": "stream",
          "name": "stdout",
          "text": [
            "The sum of all even numbers between 1 and 50 is: 650\n"
          ]
        }
      ]
    },
    {
      "cell_type": "code",
      "source": [
        "# Question 14: Write a program to reverse a string using a while loop.\n",
        "\n",
        "str1 = \"Hello World\"\n",
        "\n",
        "print(\"Reversed string: \", end=\"\")\n",
        "while len(str1):\n",
        "  reversed_string = str1[-1]\n",
        "  str1 = str1[:-1]\n",
        "  print(reversed_string, end=\"\")"
      ],
      "metadata": {
        "colab": {
          "base_uri": "https://localhost:8080/"
        },
        "id": "8Jb8ACyv3N6K",
        "outputId": "b0316326-ed83-4dc4-fb1d-32cdf8332a65"
      },
      "execution_count": null,
      "outputs": [
        {
          "output_type": "stream",
          "name": "stdout",
          "text": [
            "Reversed string: dlroW olleH"
          ]
        }
      ]
    },
    {
      "cell_type": "code",
      "source": [
        "# Question 15: Write a Python program to calculate the factorial of a number provided by the user using a while loop.\n",
        "\n",
        "num = int(input(\"Enter a number: \"))\n",
        "factorial = 1\n",
        "\n",
        "while num > 0:\n",
        "  factorial *= num\n",
        "  num -= 1\n",
        "\n",
        "print(f\"Factorial is: {factorial}\")"
      ],
      "metadata": {
        "colab": {
          "base_uri": "https://localhost:8080/"
        },
        "id": "uAwcb7mj49yz",
        "outputId": "30edb95b-7e7c-452c-8ce2-37f63a9aa975"
      },
      "execution_count": null,
      "outputs": [
        {
          "output_type": "stream",
          "name": "stdout",
          "text": [
            "Enter a number: 4\n",
            "Factorial is: 24\n"
          ]
        }
      ]
    }
  ]
}